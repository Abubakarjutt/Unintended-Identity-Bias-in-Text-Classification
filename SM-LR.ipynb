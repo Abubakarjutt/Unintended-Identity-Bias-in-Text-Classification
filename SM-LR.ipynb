{
 "cells": [
  {
   "cell_type": "code",
   "execution_count": 1,
   "metadata": {},
   "outputs": [
    {
     "name": "stderr",
     "output_type": "stream",
     "text": [
      "Using TensorFlow backend.\n"
     ]
    }
   ],
   "source": [
    "import warnings\n",
    "warnings.filterwarnings( 'ignore' )\n",
    "import gc\n",
    "import os\n",
    "import time\n",
    "import numpy as np\n",
    "import pandas as pd\n",
    "import pickle\n",
    "\n",
    "from sklearn.metrics import accuracy_score, precision_score, recall_score\n",
    "from sklearn.metrics import f1_score, confusion_matrix\n",
    "from sklearn.model_selection import StratifiedKFold, train_test_split\n",
    "from sklearn.feature_extraction.text import TfidfVectorizer\n",
    "\n",
    "import tensorflow as tf\n",
    "import keras.backend as K\n",
    "from keras.models import load_model\n",
    "from keras.preprocessing import text, sequence\n",
    "\n",
    "\n",
    "from tqdm import tqdm_notebook\n",
    "import re\n",
    "from nltk.corpus import stopwords\n",
    "from nltk.tokenize import word_tokenize\n",
    "from nltk.stem import WordNetLemmatizer\n",
    "from nltk.util import ngrams\n",
    "\n",
    "from tensorflow.keras.preprocessing.text import Tokenizer\n",
    "from tensorflow.keras.preprocessing.sequence import pad_sequences\n",
    "\n",
    "\n",
    "import warnings\n",
    "warnings.filterwarnings( 'ignore' )\n",
    "\n",
    "from sklearn.naive_bayes import BernoulliNB\n",
    "from sklearn.ensemble import RandomForestClassifier\n",
    "from sklearn.linear_model import LogisticRegression\n",
    "from sklearn.svm import SVC\n",
    "#from thundersvm import SVC\n",
    "from sklearn.metrics import confusion_matrix, roc_auc_score, accuracy_score\n",
    "\n",
    "\n",
    "from keras.models import Model\n",
    "from keras.layers import Input, Embedding\n",
    "from keras.layers import CuDNNGRU, CuDNNLSTM, Conv1D, Conv2D, Dense, Bidirectional, GRU, LSTM, MaxPool1D\n",
    "from keras.layers import SpatialDropout1D, Dropout, Concatenate, concatenate, Softmax, Flatten, Reshape\n",
    "from keras.layers import GlobalMaxPooling1D, GlobalAveragePooling1D, GlobalMaxPooling2D, GlobalAveragePooling2D\n",
    "from keras.utils import multi_gpu_model\n",
    "from keras.optimizers import *"
   ]
  },
  {
   "cell_type": "markdown",
   "metadata": {},
   "source": [
    "from tensorflow.random import set_seed\n",
    "from numpy.random import seed\n",
    "import random\n",
    "\n",
    "\n",
    "seed_value = 0\n",
    "set_seed(seed_value)\n",
    "seed(seed_value)\n",
    "os.environ['PYTHONHASHSEED'] = str(seed_value)\n",
    "random.seed(seed_value)"
   ]
  },
  {
   "cell_type": "code",
   "execution_count": 2,
   "metadata": {},
   "outputs": [],
   "source": [
    "import All_RUT_Models\n",
    "import RUT_Utils"
   ]
  },
  {
   "cell_type": "code",
   "execution_count": 3,
   "metadata": {},
   "outputs": [],
   "source": [
    "# hyper parameters for this model\n",
    "\n",
    "penalty = 'l2'\n",
    "C = 18\n",
    "solver = 'newton-cg'\n",
    "class_weight='balanced'"
   ]
  },
  {
   "cell_type": "code",
   "execution_count": 4,
   "metadata": {},
   "outputs": [],
   "source": [
    "modelname = 'LR'\n",
    "\n",
    "modelpath = './Models/' + modelname + '/'\n",
    "\n",
    "if not os.path.exists( modelpath ):\n",
    "    os.makedirs( modelpath )\n",
    "if not os.path.exists( './Results/' ):\n",
    "    os.makedirs( './Results/' )"
   ]
  },
  {
   "cell_type": "code",
   "execution_count": 5,
   "metadata": {},
   "outputs": [],
   "source": [
    "def hms_string(sec_elapsed):\n",
    "    h = int(sec_elapsed / (60 * 60))\n",
    "    m = int((sec_elapsed % (60 * 60)) / 60)\n",
    "    s = sec_elapsed % 60\n",
    "    return \"{}:{:>02}:{:>05.2f}\".format(h, m, s)"
   ]
  },
  {
   "cell_type": "code",
   "execution_count": 6,
   "metadata": {},
   "outputs": [],
   "source": [
    "def convert_lower_case(data):\n",
    "    # Convert the input text into lowercase text\n",
    "    return np.char.lower(str(data))\n",
    "\n",
    "def remove_stop_words(data):\n",
    "    # Tokenize the input text and remove stopwords from the corpus\n",
    "    stop_words = stopwords.words('english')\n",
    "    lemmatizer = WordNetLemmatizer()\n",
    "    words = word_tokenize(str(data))\n",
    "    new_text = \"\"\n",
    "    for w in words:\n",
    "        if w not in stop_words and len(w) > 3:\n",
    "            new_text = new_text + \" \" + lemmatizer.lemmatize(w)\n",
    "    return new_text\n",
    "\n",
    "def remove_punctuation(data):\n",
    "    # Remove punctuations defined below from input text\n",
    "    symbols = \"!\\\"#$%&()*+-./:;<=>?@[\\]^_`{|}~\\n\"\n",
    "    for i in range(len(symbols)):\n",
    "        data = np.char.replace(data, symbols[i], ' ')\n",
    "        data = np.char.replace(data, \"  \", \" \")\n",
    "    data = np.char.replace(data, ',', '')\n",
    "    return data\n",
    "\n",
    "def remove_apostrophe(data):\n",
    "    # Remove apostrophe from the input text\n",
    "    return np.char.replace(data, \"'\", \"\")\n",
    "\n",
    "def preprocess(data):\n",
    "    # Preprocess the input text\n",
    "    data = convert_lower_case(data)\n",
    "    data = remove_punctuation(data) #remove comma seperately\n",
    "    data = remove_apostrophe(data)\n",
    "    data = remove_stop_words(data)\n",
    "    return data\n",
    "\n",
    "def get_tokens(dataframe, column):\n",
    "    tokens = []\n",
    "    for i in tqdm_notebook(dataframe[column][:]):\n",
    "        _tokens = word_tokenize(str(i))\n",
    "        tokens.append(_tokens)\n",
    "        \n",
    "    return tokens"
   ]
  },
  {
   "cell_type": "code",
   "execution_count": 7,
   "metadata": {},
   "outputs": [
    {
     "data": {
      "application/vnd.jupyter.widget-view+json": {
       "model_id": "0d17aeaea8b8420fb9bc7bca8dc3389c",
       "version_major": 2,
       "version_minor": 0
      },
      "text/plain": [
       "HBox(children=(HTML(value=''), FloatProgress(value=0.0, max=95692.0), HTML(value='')))"
      ]
     },
     "metadata": {},
     "output_type": "display_data"
    },
    {
     "name": "stdout",
     "output_type": "stream",
     "text": [
      "\n"
     ]
    },
    {
     "data": {
      "application/vnd.jupyter.widget-view+json": {
       "model_id": "ce6430e125344929b27a6e4a4fc30612",
       "version_major": 2,
       "version_minor": 0
      },
      "text/plain": [
       "HBox(children=(HTML(value=''), FloatProgress(value=0.0, max=76564.0), HTML(value='')))"
      ]
     },
     "metadata": {},
     "output_type": "display_data"
    },
    {
     "name": "stdout",
     "output_type": "stream",
     "text": [
      "\n"
     ]
    },
    {
     "data": {
      "application/vnd.jupyter.widget-view+json": {
       "model_id": "a8bd5f23c5db4486956abf92785c3562",
       "version_major": 2,
       "version_minor": 0
      },
      "text/plain": [
       "HBox(children=(HTML(value=''), FloatProgress(value=0.0, max=76564.0), HTML(value='')))"
      ]
     },
     "metadata": {},
     "output_type": "display_data"
    },
    {
     "name": "stdout",
     "output_type": "stream",
     "text": [
      "\n"
     ]
    }
   ],
   "source": [
    "train_data = pd.read_csv('data\\\\wiki_debias_train.csv')\n",
    "train_data = train_data.dropna(axis = 0)\n",
    "#train_data = train_data.sample(n=100000, random_state=0)\n",
    "train_data['toxicity'] = train_data['toxicity'].round()\n",
    "\n",
    "df_test = pd.read_csv('test_data.csv')\n",
    "df_test = df_test.dropna(axis = 0)\n",
    "df_test.loc[df_test['Label'] == 'BAD', 'Label'] = 1\n",
    "df_test.loc[df_test['Label'] == 'NOT_BAD', 'Label'] = 0\n",
    "\n",
    "\n",
    "train_feature = get_tokens(train_data, 'comment')\n",
    "train_label = train_data['toxicity']\n",
    "\n",
    "test_feature = get_tokens(df_test, 'Text')\n",
    "test_label = df_test['Label']\n",
    "\n",
    "identity_terms = []\n",
    "for i in tqdm_notebook(range(len(df_test['Text']))):\n",
    "    _comment = df_test.loc[i,  'Text'].split(\" \")\n",
    "    if len(_comment) < 3:\n",
    "        _term = _comment[1]\n",
    "        identity_terms.append(_term)\n",
    "identity_terms = list(set(identity_terms))\n",
    "\n",
    "\n",
    "terms = []\n",
    "for i in range(len(df_test['Text'])):\n",
    "    _text = df_test.loc[i, 'Text'].split(' ')\n",
    "    _term = list(set(_text).intersection(set(identity_terms)))\n",
    "    if len(_term) > 0:\n",
    "        terms.append(_term[0])\n",
    "    else:\n",
    "        terms.append(np.nan)\n",
    "        \n",
    "df_test['Identity_Terms'] = terms"
   ]
  },
  {
   "cell_type": "code",
   "execution_count": 8,
   "metadata": {},
   "outputs": [],
   "source": [
    "vectorizer = TfidfVectorizer()\n",
    "vectorizer.fit( train_data['comment'] )\n",
    "\n",
    "xtrain = vectorizer.transform( train_data['comment'].values )\n",
    "xtest = vectorizer.transform( df_test[ 'Text' ].values )\n",
    "ytrain = train_data[ 'toxicity' ]\n",
    "ytest = df_test[ 'Label' ]\n"
   ]
  },
  {
   "cell_type": "code",
   "execution_count": null,
   "metadata": {},
   "outputs": [],
   "source": [
    "model = LogisticRegression( penalty=penalty, C=C, solver=solver, class_weight=class_weight )\n",
    "model.fit( xtrain, ytrain )"
   ]
  },
  {
   "cell_type": "code",
   "execution_count": null,
   "metadata": {},
   "outputs": [],
   "source": [
    "with open( modelpath + modelname +  '.pkl', 'wb' ) as f:\n",
    "        pickle.dump( model, f )"
   ]
  },
  {
   "cell_type": "code",
   "execution_count": null,
   "metadata": {},
   "outputs": [],
   "source": [
    "with open( modelpath + modelname + '.pkl', 'rb' ) as f:\n",
    "        model = pickle.load( f )"
   ]
  },
  {
   "cell_type": "code",
   "execution_count": null,
   "metadata": {},
   "outputs": [],
   "source": [
    "pred = model.predict(xtrain)\n",
    "accuracy_score(ytrain, pred)"
   ]
  },
  {
   "cell_type": "code",
   "execution_count": null,
   "metadata": {},
   "outputs": [],
   "source": [
    "xf_positive = 0\n",
    "xd_positive = 0\n",
    "xf_total = 0\n",
    "xd_total = 0\n",
    "\n",
    "for i in tqdm_notebook(range(len(train_feature))):\n",
    "    if(train_data['toxicity'].values[i] == 1 and len(list(set(train_feature[i]).intersection(set(terms)))) > 0):\n",
    "        xd_positive += 1\n",
    "        xd_total += 1\n",
    "    elif(len(list(set(train_feature[i]).intersection(set(terms)))) > 0):\n",
    "        xd_total += 1\n",
    "    elif(train_data['toxicity'].values[i] == 1 and len(list(set(train_feature[i]).intersection(set(terms))))==0):\n",
    "        xf_positive += 1\n",
    "        xf_total += 1\n",
    "    elif(len(list(set(train_feature[i]).intersection(set(terms))))== 0):\n",
    "        xf_total += 1"
   ]
  },
  {
   "cell_type": "code",
   "execution_count": null,
   "metadata": {},
   "outputs": [],
   "source": [
    "pf = xf_positive / xf_total\n",
    "pd = xd_positive / xd_total\n",
    "discrimination = pf - pd\n",
    "discrimination"
   ]
  },
  {
   "cell_type": "code",
   "execution_count": null,
   "metadata": {},
   "outputs": [],
   "source": [
    "pred = model.predict(xtrain)\n",
    "xf_positive = 0\n",
    "xd_positive = 0\n",
    "xf_total = 0\n",
    "xd_total = 0\n",
    "\n",
    "for i in tqdm_notebook(range(len(train_feature))):\n",
    "    if(pred[i].round() == 1 and len(list(set(train_feature[i]).intersection(set(terms)))) > 0):\n",
    "        xd_positive += 1\n",
    "        xd_total += 1\n",
    "    elif(len(list(set(train_feature[i]).intersection(set(terms)))) > 0):\n",
    "        xd_total += 1\n",
    "    elif(pred[i].round() == 1 and len(list(set(train_feature[i]).intersection(set(terms))))==0):\n",
    "        xf_positive += 1\n",
    "        xf_total += 1\n",
    "    elif(len(list(set(train_feature[i]).intersection(set(terms))))== 0):\n",
    "        xf_total += 1"
   ]
  },
  {
   "cell_type": "code",
   "execution_count": null,
   "metadata": {},
   "outputs": [],
   "source": [
    "pf = xf_positive / xf_total\n",
    "pd = xd_positive / xd_total\n",
    "discrimination = pf - pd\n",
    "discrimination"
   ]
  },
  {
   "cell_type": "code",
   "execution_count": null,
   "metadata": {},
   "outputs": [],
   "source": [
    "pred = model.predict(xtest)\n",
    "df_test['prediction_scores'] = pred\n",
    "accuracy_score(df_test['Label'].astype(float), pred)"
   ]
  },
  {
   "cell_type": "code",
   "execution_count": null,
   "metadata": {},
   "outputs": [],
   "source": [
    "xf_positive = 0\n",
    "xd_positive = 0\n",
    "xf_total = 0\n",
    "xd_total = 0\n",
    "\n",
    "for i in tqdm_notebook(range(len(test_feature))):\n",
    "    if(pred[i].round() == 1 and len(list(set(test_feature[i]).intersection(set(terms)))) > 0):\n",
    "        xd_positive += 1\n",
    "        xd_total += 1\n",
    "    elif(len(list(set(test_feature[i]).intersection(set(terms)))) > 0):\n",
    "        xd_total += 1\n",
    "    elif(pred[i].round() == 1 and len(list(set(test_feature[i]).intersection(set(terms))))==0):\n",
    "        xf_positive += 1\n",
    "        xf_total += 1\n",
    "    elif(len(list(set(test_feature[i]).intersection(set(terms))))== 0):\n",
    "        xf_total += 1\n",
    "        "
   ]
  },
  {
   "cell_type": "code",
   "execution_count": null,
   "metadata": {},
   "outputs": [],
   "source": [
    "pf = xf_positive / xf_total\n",
    "pd = xd_positive / xd_total\n",
    "discrimination = pf - pd\n",
    "discrimination"
   ]
  },
  {
   "cell_type": "code",
   "execution_count": null,
   "metadata": {},
   "outputs": [],
   "source": [
    "import pandas as pd\n",
    "def perf_measure(y_actual, y_hat):\n",
    "    TP = 0\n",
    "    FP = 0\n",
    "    TN = 0\n",
    "    FN = 0\n",
    "\n",
    "    for i in range(len(y_hat)): \n",
    "        if y_actual[i]==y_hat[i]==1:\n",
    "           TP += 1\n",
    "        if y_hat[i]==1 and y_actual[i]!=y_hat[i]:\n",
    "           FP += 1\n",
    "        if y_actual[i]==y_hat[i]==0:\n",
    "           TN += 1\n",
    "        if y_hat[i]==0 and y_actual[i]!=y_hat[i]:\n",
    "           FN += 1\n",
    "\n",
    "    return(TN, FP, FN, TP)\n",
    "\n",
    "\n",
    "\n",
    "total_tn, total_fp, total_fn, total_tp = confusion_matrix(df_test['Label'].astype(float), pred.round()).ravel()\n",
    "total_fpr = total_fp / (total_fp + total_tn )\n",
    "total_fnr = total_fn / (total_fn + total_tp)\n",
    "false_positive = []\n",
    "false_negative = []\n",
    "identity_terms = []\n",
    "for identity_term in set(terms):\n",
    "    data = df_test[df_test['Identity_Terms'] == identity_term].reset_index()\n",
    "    y_true, y_pred = data['Label'].astype(int), data['prediction_scores']\n",
    "    tn, fp, fn, tp = perf_measure(y_true, y_pred.round())\n",
    "    try:\n",
    "        fpr = fp / (fp + tn)\n",
    "        fnr = fn / (fn + tp)\n",
    "        false_positive.append(fpr)\n",
    "        false_negative.append(fnr)\n",
    "        identity_terms.append(identity_term)\n",
    "    except:\n",
    "        print(\"Error in \", identity_term)\n",
    "\n",
    "    \n",
    "eval_scores = pd.DataFrame(identity_terms, columns = ['Identity_Titles'])\n",
    "eval_scores['Identity_Term_False_Positive'] = false_positive\n",
    "eval_scores['Total_False_Positive'] = total_fpr\n",
    "eval_scores['Identity_Term_False_Negatives'] = false_negative\n",
    "eval_scores['Total_False_Negative'] = total_fnr\n",
    "eval_scores['FPR - FPRt'] = abs(total_fpr - eval_scores['Identity_Term_False_Positive'])\n",
    "eval_scores['FNR - FNRt'] = abs(total_fnr - eval_scores['Identity_Term_False_Negatives'])\n",
    "eval_scores"
   ]
  },
  {
   "cell_type": "code",
   "execution_count": null,
   "metadata": {},
   "outputs": [],
   "source": [
    "eval_scores['FPR - FPRt'].sum(), eval_scores['FNR - FNRt'].sum()\n"
   ]
  },
  {
   "cell_type": "code",
   "execution_count": null,
   "metadata": {},
   "outputs": [],
   "source": [
    "total_auc = roc_auc_score(df_test['Label'].astype(float), pred.round())\n",
    "terms_auc = []\n",
    "identity_terms = []\n",
    "for identity_term in set(terms):\n",
    "    term_data = df_test[df_test['Identity_Terms'] == identity_term].reset_index()\n",
    "    data = df_test.sample(n=len(term_data['Text']), random_state=0)\n",
    "    data = term_data.append(data, ignore_index=True)\n",
    "    y_true, y_pred = data['Label'].astype(int), data['prediction_scores']\n",
    "\n",
    "    try:\n",
    "        term_auc = roc_auc_score(y_true, y_pred.round())\n",
    "        terms_auc.append(term_auc)\n",
    "        identity_terms.append(identity_term)\n",
    "    except:\n",
    "        print(\"Error in \",identity_term)\n",
    "\n",
    "\n",
    "    \n",
    "eval_scores = pd.DataFrame(identity_terms, columns = ['Identity_Titles'])\n",
    "eval_scores['AUCt'] = terms_auc\n",
    "eval_scores['AUC'] = total_auc\n",
    "eval_scores['AUC - AUCt'] = abs(eval_scores['AUC'] - eval_scores['AUCt'])\n",
    "eval_scores"
   ]
  },
  {
   "cell_type": "code",
   "execution_count": null,
   "metadata": {},
   "outputs": [],
   "source": [
    "print(eval_scores['AUC - AUCt'].sum())"
   ]
  },
  {
   "cell_type": "code",
   "execution_count": null,
   "metadata": {},
   "outputs": [],
   "source": [
    "pred =  model.predict_proba(xtest)"
   ]
  },
  {
   "cell_type": "code",
   "execution_count": null,
   "metadata": {},
   "outputs": [],
   "source": [
    "from sklearn.neighbors import KNeighborsClassifier\n",
    "KNN = KNeighborsClassifier(n_neighbors=3, weights = 'distance',n_jobs = -1)\n",
    "KNN.fit(xtest, ytest.astype('int'))\n",
    "\n",
    "theta = 0.75\n",
    "SM_pred = []\n",
    "for i in tqdm_notebook(range(len(test_feature[:]))):\n",
    "    p_positive = pred[i][1]\n",
    "    p_negative = 1 - p_positive\n",
    "    feature = xtest[i]\n",
    "    label = df_test.loc[i, 'Label']\n",
    "    #feature = [np.hstack((feature, label))]\n",
    "    if max(p_positive, p_negative) < theta:\n",
    "        prediction = KNN.predict(feature)\n",
    "        SM_pred.append(prediction.item())\n",
    "    else:\n",
    "        SM_pred.append(pred[i][1].round())"
   ]
  },
  {
   "cell_type": "code",
   "execution_count": null,
   "metadata": {},
   "outputs": [],
   "source": [
    "xf_positive = 0\n",
    "xd_positive = 0\n",
    "xf_total = 0\n",
    "xd_total = 0\n",
    "\n",
    "for i in tqdm_notebook(range(len(test_feature))):\n",
    "    if(SM_pred[i] == 1 and len(list(set(test_feature[i]).intersection(set(terms)))) > 0):\n",
    "        xd_positive += 1\n",
    "        xd_total += 1\n",
    "    elif(len(list(set(test_feature[i]).intersection(set(terms)))) > 0):\n",
    "        xd_total += 1\n",
    "    elif(SM_pred[i] == 1 and len(list(set(test_feature[i]).intersection(set(terms))))== 0):\n",
    "        xf_positive += 1\n",
    "        xf_total += 1\n",
    "    elif(len(list(set(test_feature[i]).intersection(set(terms))))== 0):\n",
    "        xf_total += 1"
   ]
  },
  {
   "cell_type": "code",
   "execution_count": null,
   "metadata": {},
   "outputs": [],
   "source": [
    "pf = xf_positive / xf_total\n",
    "pd = xd_positive / xd_total\n",
    "discrimination = pf - pd\n",
    "discrimination"
   ]
  },
  {
   "cell_type": "code",
   "execution_count": null,
   "metadata": {},
   "outputs": [],
   "source": [
    "accuracy_score(df_test['Label'].astype(float), SM_pred)"
   ]
  },
  {
   "cell_type": "code",
   "execution_count": null,
   "metadata": {},
   "outputs": [],
   "source": [
    "#test_data['prediction_scores'] = ROC_pred\n",
    "import pandas as pd\n",
    "total_tn, total_fp, total_fn, total_tp = confusion_matrix(df_test['Label'].astype(float), SM_pred).ravel()\n",
    "total_fpr = total_fp / (total_fp + total_tn )\n",
    "total_fnr = total_fn / (total_fn + total_tp)\n",
    "false_positive = []\n",
    "false_negative = []\n",
    "identity_terms = []\n",
    "for identity_term in set(terms):\n",
    "    data = df_test[df_test['Identity_Terms'] == identity_term].reset_index()\n",
    "    y_true, y_pred = data['Label'].astype(int), data['prediction_scores']\n",
    "    tn, fp, fn, tp = perf_measure(y_true, y_pred.round())\n",
    "    try:\n",
    "        fpr = fp / (fp + tn)\n",
    "        fnr = fn / (fn + tp)\n",
    "        false_positive.append(fpr)\n",
    "        false_negative.append(fnr)\n",
    "        identity_terms.append(identity_term)\n",
    "    except:\n",
    "        print(\"Error in \", identity_term)\n",
    "\n",
    "    \n",
    "eval_scores = pd.DataFrame(identity_terms, columns = ['Identity_Titles'])\n",
    "eval_scores['Identity_Term_False_Positive'] = false_positive\n",
    "eval_scores['Total_False_Positive'] = total_fpr\n",
    "eval_scores['Identity_Term_False_Negatives'] = false_negative\n",
    "eval_scores['Total_False_Negative'] = total_fnr\n",
    "eval_scores['FPR - FPRt'] = abs(total_fpr - eval_scores['Identity_Term_False_Positive'])\n",
    "eval_scores['FNR - FNRt'] = abs(total_fnr - eval_scores['Identity_Term_False_Negatives'])\n",
    "eval_scores"
   ]
  },
  {
   "cell_type": "code",
   "execution_count": null,
   "metadata": {},
   "outputs": [],
   "source": [
    "eval_scores['FPR - FPRt'].sum(), eval_scores['FNR - FNRt'].sum()"
   ]
  },
  {
   "cell_type": "code",
   "execution_count": null,
   "metadata": {},
   "outputs": [],
   "source": [
    "total_auc = roc_auc_score(df_test['Label'].astype(float), SM_pred)\n",
    "terms_auc = []\n",
    "identity_terms = []\n",
    "for identity_term in set(terms):\n",
    "    term_data = df_test[df_test['Identity_Terms'] == identity_term].reset_index()\n",
    "    data = df_test.sample(n=len(term_data['Text']), random_state=0)\n",
    "    data = term_data.append(data, ignore_index=True)\n",
    "    y_true, y_pred = data['Label'].astype(int), data['prediction_scores']\n",
    "\n",
    "    try:\n",
    "        term_auc = roc_auc_score(y_true, y_pred.round())\n",
    "        terms_auc.append(term_auc)\n",
    "        identity_terms.append(identity_term)\n",
    "    except:\n",
    "        print(\"Error in \",identity_term)\n",
    "\n",
    "\n",
    "    \n",
    "eval_scores = pd.DataFrame(identity_terms, columns = ['Identity_Titles'])\n",
    "eval_scores['AUCt'] = terms_auc\n",
    "eval_scores['AUC'] = total_auc\n",
    "eval_scores['AUC - AUCt'] = abs(eval_scores['AUC'] - eval_scores['AUCt'])\n",
    "eval_scores"
   ]
  },
  {
   "cell_type": "code",
   "execution_count": null,
   "metadata": {
    "scrolled": true
   },
   "outputs": [],
   "source": [
    "print(eval_scores['AUC - AUCt'].sum())"
   ]
  },
  {
   "cell_type": "code",
   "execution_count": null,
   "metadata": {},
   "outputs": [],
   "source": []
  },
  {
   "cell_type": "code",
   "execution_count": null,
   "metadata": {},
   "outputs": [],
   "source": []
  },
  {
   "cell_type": "code",
   "execution_count": null,
   "metadata": {},
   "outputs": [],
   "source": []
  }
 ],
 "metadata": {
  "kernelspec": {
   "display_name": "Python 3",
   "language": "python",
   "name": "python3"
  },
  "language_info": {
   "codemirror_mode": {
    "name": "ipython",
    "version": 3
   },
   "file_extension": ".py",
   "mimetype": "text/x-python",
   "name": "python",
   "nbconvert_exporter": "python",
   "pygments_lexer": "ipython3",
   "version": "3.8.5"
  }
 },
 "nbformat": 4,
 "nbformat_minor": 4
}
